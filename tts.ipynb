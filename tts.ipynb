{
 "cells": [
  {
   "cell_type": "code",
   "execution_count": 1,
   "metadata": {},
   "outputs": [
    {
     "name": "stdout",
     "output_type": "stream",
     "text": [
      "Requirement already satisfied: azure-cognitiveservices-speech in c:\\users\\duy\\appdata\\local\\programs\\python\\python39\\lib\\site-packages (1.19.0)\n",
      "Note: you may need to restart the kernel to use updated packages.\n"
     ]
    }
   ],
   "source": [
    "pip install azure-cognitiveservices-speech"
   ]
  },
  {
   "cell_type": "code",
   "execution_count": 2,
   "metadata": {},
   "outputs": [
    {
     "name": "stdout",
     "output_type": "stream",
     "text": [
      "Requirement already satisfied: urllib3 in c:\\users\\duy\\appdata\\local\\programs\\python\\python39\\lib\\site-packages (1.26.5)\n",
      "Requirement already satisfied: requests in c:\\users\\duy\\appdata\\local\\programs\\python\\python39\\lib\\site-packages (2.25.1)\n",
      "Requirement already satisfied: certifi>=2017.4.17 in c:\\users\\duy\\appdata\\local\\programs\\python\\python39\\lib\\site-packages (from requests) (2021.5.30)\n",
      "Requirement already satisfied: chardet<5,>=3.0.2 in c:\\users\\duy\\appdata\\local\\programs\\python\\python39\\lib\\site-packages (from requests) (4.0.0)\n",
      "Requirement already satisfied: idna<3,>=2.5 in c:\\users\\duy\\appdata\\local\\programs\\python\\python39\\lib\\site-packages (from requests) (2.10)\n",
      "Note: you may need to restart the kernel to use updated packages.\n"
     ]
    }
   ],
   "source": [
    "pip install urllib3 requests"
   ]
  },
  {
   "cell_type": "code",
   "execution_count": 3,
   "metadata": {},
   "outputs": [],
   "source": [
    "import azure.cognitiveservices.speech as speechsdk\n",
    "from azure.cognitiveservices.speech.audio import AudioOutputConfig\n",
    "import json"
   ]
  },
  {
   "cell_type": "code",
   "execution_count": 4,
   "metadata": {},
   "outputs": [],
   "source": [
    "config_file_name = \"config_file_dev.json\"\n",
    "\n",
    "with open(config_file_name, 'r') as json_data_file:\n",
    "    configuration = json.load(json_data_file)\n",
    "    \n",
    "# Speech SDK\n",
    "speech_key = configuration[\"speech_api\"][\"speech_key\"]\n",
    "service_region = configuration[\"speech_api\"][\"service_region\"]"
   ]
  },
  {
   "cell_type": "code",
   "execution_count": 9,
   "metadata": {},
   "outputs": [],
   "source": [
    "speech_config = speechsdk.SpeechConfig(subscription=speech_key, region=service_region)\n",
    "\n",
    "# Vietnamese (Vietnam)\n",
    "speech_config.speech_synthesis_language = \"vi-VN\"\n",
    "# Female: \n",
    "speech_config.speech_synthesis_voice_name =\"vi-VN-HoaiMyNeural\"\n",
    "# Male:\n",
    "# speech_config.speech_synthesis_voice_name =\"vi-VN-NamMinhNeural\"\n",
    "\n",
    "# English (United States)\n",
    "# speech_config.speech_synthesis_language = \"en-US\"\n",
    "# speech_config.speech_synthesis_voice_name =\"en-US-AmberNeural\"\n",
    "# Female: en-US-AmberNeural, en-US-AriaNeural, en-US-AshleyNeural, en-US-CoraNeural, en-US-ElizabethNeural, en-US-JennyNeural, en-US-MichelleNeural, en-US-MonicaNeural, en-US-SaraNeural\n",
    "# Kid: en-US-AnaNeural\n",
    "# Male: en-US-BrandonNeural, en-US-ChristopherNeural, en-US-EricNeural, en-US-GuyNeural, en-US-JacobNeural\n",
    "\n",
    "# audio_config = AudioOutputConfig(filename=\"E:\\\\text-to-speech\\\\data\\\\result.wav\")\n",
    "audio_config = AudioOutputConfig(filename=\"data\\\\result.wav\")"
   ]
  },
  {
   "cell_type": "code",
   "execution_count": 10,
   "metadata": {},
   "outputs": [],
   "source": [
    "speech_synthesizer = speechsdk.SpeechSynthesizer(speech_config=speech_config, audio_config=audio_config)"
   ]
  },
  {
   "cell_type": "code",
   "execution_count": 11,
   "metadata": {},
   "outputs": [
    {
     "name": "stdout",
     "output_type": "stream",
     "text": [
      "Type some text that you want to speak...\n"
     ]
    }
   ],
   "source": [
    "print(\"Type some text that you want to speak...\")\n",
    "text = input()"
   ]
  },
  {
   "cell_type": "code",
   "execution_count": 12,
   "metadata": {},
   "outputs": [
    {
     "name": "stdout",
     "output_type": "stream",
     "text": [
      "Speech synthesized to speaker for text [Xin chào hôm nay là ngày]\n"
     ]
    }
   ],
   "source": [
    "result = speech_synthesizer.speak_text_async(text).get()\n",
    "\n",
    "if result.reason == speechsdk.ResultReason.SynthesizingAudioCompleted:\n",
    "    print(\"Speech synthesized to speaker for text [{}]\".format(text))\n",
    "elif result.reason == speechsdk.ResultReason.Canceled:\n",
    "    cancellation_details = result.cancellation_details\n",
    "    print(\"Speech synthesis canceled: {}\".format(cancellation_details.reason))\n",
    "    if cancellation_details.reason == speechsdk.CancellationReason.Error:\n",
    "        if cancellation_details.error_details:\n",
    "            print(\"Error details: {}\".format(cancellation_details.error_details))\n",
    "    print(\"Did you update the subscription info?\")"
   ]
  },
  {
   "cell_type": "code",
   "execution_count": 1,
   "metadata": {},
   "outputs": [],
   "source": [
    "import json\n",
    "import ntpath\n",
    "import requests"
   ]
  },
  {
   "cell_type": "code",
   "execution_count": 5,
   "metadata": {},
   "outputs": [
    {
     "name": "stdout",
     "output_type": "stream",
     "text": [
      "{\n",
      "  \"values\": []\n",
      "}\n"
     ]
    }
   ],
   "source": [
    "def get_voices():\n",
    "    region = ''\n",
    "    key = ''\n",
    "    url = 'https://{}.customvoice.api.speech.microsoft.com/api/texttospeech/v3.0/longaudiosynthesis/voices'.format(region)\n",
    "    header = {\n",
    "        'Ocp-Apim-Subscription-Key': key\n",
    "    }\n",
    "\n",
    "    response = requests.get(url, headers=header)\n",
    "    print(response.text)\n",
    "\n",
    "get_voices()"
   ]
  }
 ],
 "metadata": {
  "interpreter": {
   "hash": "acc2e600df6cc579214e2ceacb80e0cb3558133be1c215a7a18453674aa06459"
  },
  "kernelspec": {
   "display_name": "Python 3.9.9 64-bit",
   "language": "python",
   "name": "python3"
  },
  "language_info": {
   "codemirror_mode": {
    "name": "ipython",
    "version": 3
   },
   "file_extension": ".py",
   "mimetype": "text/x-python",
   "name": "python",
   "nbconvert_exporter": "python",
   "pygments_lexer": "ipython3",
   "version": "3.9.1"
  },
  "orig_nbformat": 4
 },
 "nbformat": 4,
 "nbformat_minor": 2
}
