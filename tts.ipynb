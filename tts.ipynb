{
 "cells": [
  {
   "cell_type": "code",
   "execution_count": 1,
   "metadata": {},
   "outputs": [
    {
     "name": "stdout",
     "output_type": "stream",
     "text": [
      "Requirement already satisfied: azure-cognitiveservices-speech in c:\\users\\duy\\appdata\\local\\programs\\python\\python39\\lib\\site-packages (1.19.0)\n",
      "Note: you may need to restart the kernel to use updated packages.\n"
     ]
    }
   ],
   "source": [
    "pip install azure-cognitiveservices-speech"
   ]
  },
  {
   "cell_type": "code",
   "execution_count": 2,
   "metadata": {},
   "outputs": [
    {
     "name": "stdout",
     "output_type": "stream",
     "text": [
      "Requirement already satisfied: urllib3 in c:\\users\\duy\\appdata\\local\\programs\\python\\python39\\lib\\site-packages (1.26.5)\n",
      "Requirement already satisfied: requests in c:\\users\\duy\\appdata\\local\\programs\\python\\python39\\lib\\site-packages (2.25.1)\n",
      "Requirement already satisfied: certifi>=2017.4.17 in c:\\users\\duy\\appdata\\local\\programs\\python\\python39\\lib\\site-packages (from requests) (2021.5.30)\n",
      "Requirement already satisfied: chardet<5,>=3.0.2 in c:\\users\\duy\\appdata\\local\\programs\\python\\python39\\lib\\site-packages (from requests) (4.0.0)\n",
      "Requirement already satisfied: idna<3,>=2.5 in c:\\users\\duy\\appdata\\local\\programs\\python\\python39\\lib\\site-packages (from requests) (2.10)\n",
      "Note: you may need to restart the kernel to use updated packages.\n"
     ]
    }
   ],
   "source": [
    "pip install urllib3 requests"
   ]
  },
  {
   "cell_type": "code",
   "execution_count": 3,
   "metadata": {},
   "outputs": [],
   "source": [
    "import azure.cognitiveservices.speech as speechsdk\n",
    "from azure.cognitiveservices.speech.audio import AudioOutputConfig"
   ]
  },
  {
   "cell_type": "code",
   "execution_count": 13,
   "metadata": {},
   "outputs": [],
   "source": [
    "speech_key, service_region = \"c9b15d97bef94a05bed75b56918e924c\", \"eastus\"\n",
    "\n",
    "speech_config = speechsdk.SpeechConfig(subscription=speech_key, region=service_region)\n",
    "\n",
    "# Vietnamese (Vietnam)\n",
    "speech_config.speech_synthesis_language = \"vi-VN\"\n",
    "# Female: \n",
    "speech_config.speech_synthesis_voice_name =\"vi-VN-HoaiMyNeural\"\n",
    "# Male:\n",
    "# speech_config.speech_synthesis_voice_name =\"vi-VN-NamMinhNeural\"\n",
    "\n",
    "# English (United States)\n",
    "# Female: en-US-AmberNeural, en-US-AriaNeural, en-US-AshleyNeural, en-US-CoraNeural, en-US-ElizabethNeural, en-US-JennyNeural, en-US-MichelleNeural, en-US-MonicaNeural, en-US-SaraNeural\n",
    "# Kid: en-US-AnaNeural\n",
    "# Male: en-US-BrandonNeural, en-US-ChristopherNeural, en-US-EricNeural, en-US-GuyNeural, en-US-JacobNeural\n",
    "\n",
    "# audio_config = AudioOutputConfig(filename=\"E:\\\\text-to-speech\\\\data\\\\result.wav\")\n",
    "audio_config = AudioOutputConfig(filename=\"D:\\\\Azure-Text-To-Speech-Python\\\\data\\\\result.wav\")"
   ]
  },
  {
   "cell_type": "code",
   "execution_count": 14,
   "metadata": {},
   "outputs": [],
   "source": [
    "speech_synthesizer = speechsdk.SpeechSynthesizer(speech_config=speech_config, audio_config=audio_config)"
   ]
  },
  {
   "cell_type": "code",
   "execution_count": 11,
   "metadata": {},
   "outputs": [
    {
     "name": "stdout",
     "output_type": "stream",
     "text": [
      "Type some text that you want to speak...\n"
     ]
    }
   ],
   "source": [
    "print(\"Type some text that you want to speak...\")\n",
    "text = input()"
   ]
  },
  {
   "cell_type": "code",
   "execution_count": 15,
   "metadata": {},
   "outputs": [
    {
     "name": "stdout",
     "output_type": "stream",
     "text": [
      "Speech synthesized to speaker for text [\t LUẬN ĐỀ VỀ VẬN TỐC  DÀN BÀI DÙNG RIÊNG CHO THUYẾT TRÌNH (Kỷ niệm ngày Độc Lập 02/09/2021)  VẬN TỐC, CHIẾC CHÌA KHÓA HUYỀN DIỆU * “Thiên niên kỷ ba là thiên niên kỷ của khoa học liên hành tinh và vũ trụ phải là thiên niên kỷ đánh dấu sự con người và khoa học loài người phải thành tựu cho kỳ được sự vượt vận tốc 300.000 km/sec, vận tốc mà chúng ta đã lầm xem là vận tốc ánh sáng!” Người viết Luận đề ***  VÀI LỜI MỞ ĐẦU  Luận đề này bàn đến gần như toàn bộ nền vật lý hiện đại qua nhãn quang trung đạo, cho nên tốt nhất là phải được trình bày trực tiếp vì nếu viết thì không biết viết sao cho đủ! Đặc biệt, khi trình bày sẽ còn nhận được những ý kiến đặc sắc hay những góp ý mà chỉ bộc phát qua trực giác của những người tham dự. Mong tài liệu này đến tay các bạn trẻ Việt Nam hiện đã hay đang theo học ngành vật lý nguyên tử, thiên văn, vũ trụ.  Tôi đoan chắc tài liệu sẽ giúp đỡ các bạn đó rất nhiều trong việc mở rộng kiến thức vượt qua tầm nhận thức nhị nguyên mà thiên niên kỷ ba này tuỵ còn hữu dụng nhưng có thể xem như hết thời. Ở Tây phương những nhà vật lý trẻ họ đã nhận ra những sai lầm, thiếu sót từ nền vật lý gọi là vật lý hiện đại. Có điều họ vẫn bị ràng buộc sâu nặng vào biện chứng luận nhị nguyên, cho nên vẫn quẩn quanh chưa tìm được lối ra! Còn với các nhà khoa học Việt Nam thì hình như vẫn còn những mặc cảm tự ty nên có một số vị đề cập đến Đạo Phật, đề cập đến Bát Nhã Tâm Kinh nhưng họ cũng chưa thoát khỏi biện chứng luận nhị nguyên của Descartes – khoa học gia và triết gia Pháp một tín đồ hữu danh Thiên chúa giáo – và có lẽ họ cũng chưa rõ lý nghĩa thâm sâu của Kinh nên chưa có được cái nhìn được thực tướng thực tại .  Tôi tin chắc, khi các bạn trẻ nhận thức được thực rõ bản chất sự vật như trong Luận đề bàn đến thì tương lai sẽ có những giải Nobel mang về cho Việt Nam. MÓN QUÀ CHO QUÊ HƯƠNG  Tài liệu rất cần đối với những Ai đang theo đuổi khoa học vật lý NGƯỜI VIẾT XIN THƯA TRƯỚC, TRỌNG TÂM CHÍNH CỦA LUẬN ĐỀ LÀ MỞ ĐƯỜNG HƯỚNG ĐẾN SỰ THÀNH TỰU PHƯƠNG TIỆN TRUYỀN THÔNG TƯ TƯỞNG – TRUYỀN THÔNG VƯỢT VẬN TỐC 300.000 km/sec – VÀ NHỜ ĐÓ MÀ LOÀI NGƯỜI HY VỌNG SẼ PHÁT HIỆN ĐƯỢC NHỮNG LÝ THUYẾT MỚI GIÚP ĐÁP ỨNG NHỮNG ĐÒI HỎI CỦA NỀN VẬT LÝ THIÊN NIÊN KỶ BA.  DÙ KHÔNG PHẢI LÀ MỘT NHÀ KHOA HỌC THEO NGHĨA MÀ KHOA HỌC GỌI LÀ HỆ CHÍNH QUI, NHƯNG ĐỨNG BÊN QUAN ĐIỂM TRIẾT HỌC TÔN GIÁO, TÔI XIN MẠN PHÉP VIẾT LUẬN ĐỀ NÀY MONG GÓP Ý VỀ MẶT NHẬN THỨC LUẬN THỰC TẠI MÀ KHOA HỌC TỰ NHIÊN HIỆN ĐANG CẦN VÀ CÒN THIẾU SÓT; VỚI LUẬN ĐỀ NÀY BẢO ĐẢM MỘT CÁCH RÕ RÀNG, XỨNG ĐÁNG ĐÁP ỨNG ĐƯỢC ƯỚC VỌNG ĐI LÊN CỦA TOÀN THỂ DÂN TỘC VIỆT NAM MÀ NGÀNH VẬT LÝ HỌC HIỆN ĐẠI KHI TIẾN SÂU VÀO KHẢO SÁT CÁC ĐỐI TƯỢNG VĨ MÔ VÀ VI MÔ ĐANG PHẢI ĐỐI DIỆN NHỮNG KHÓ KHĂN NHƯNG CHƯA THỂ TÌM ĐƯỢC LỐI RA.  TÔI MẠNH MẼ TIN RẰNG KHI ĐỌC XONG DÀN BÀI LUẬN ĐỀ NÀY CÓ THỂ SẼ CÓ RẤT NHIỀU Ý KIẾN, THẮC MẮC VÀ NHỮNG CÂU HỎI SẼ ĐƯỢC ĐẶT RA; ĐỒNG THỜI TÔI CŨNG MONG QUÝ VỊ, CÁC NHÀ KHOA HỌC VÀ CÁC BẠN TRẺ VIỆT NAM CÓ NHỮNG CẢM HỨNG ĐỂ PHÁT KHỞI THÊM NHỮNG Ý TƯỞNG MỚI LẠ HẦU VƯỢT QUA KHÓ KHĂN KHÁC MÀ CÁC BẠN ĐANG ĐỐI MẶT TRONG VIỆC THEO ĐUỔI NGÀNH KHOA HỌC ĐẦY HỨNG THÚ NÀY.  TÔI CŨNG CAM KẾT, NẾU CÁC BẠN TRẺ HAM THÍCH KHOA HỌC KHI ĐÃ THÔNG SUỐT LUẬN ĐỀ NÀY TÔI BẢO ĐẢM LÀ SẼ KHÔNG CÒN GÌ BỊ XEM LÀ HUYỀN HOẶC, KHÔNG TƯỞNG VÀ NHỮNG NGHỊCH LÝ, MÂU THUẪN HAY NHỮNG LUẬN CỨ SIÊU HÌNH «TỰ» TIÊU TAN VÌ CHÚNG CHỈ LÀ HẬU QUẢ CỦA NHẬN THỨC/BIỆN CHỨNG LUẬN NHỊ NGUYÊN, CHẤP CÓ THỰC NGÃ (*); NHỮNG GÌ ĐƯỢC THẤY QUA TRUNG GIAN TƯƠNG TÁC 300.000 KM/SEC – VẬN TỐC TƯƠNG TÁC LÀM TRUNG GIAN GIỮA CHỦ THỂ VỚI ĐỐI TƯỢNG HAY GIỮA SỰ SỰ, VẬT VẬT – KHI CÓ SỰ HIỆN DIỆN CỦA CHỦ THỂ CÓ GIÁC QUAN CẢM THỤ QUA NHẬN THỨC CÓ «NGÃ THỂ» NÊN BỊ XEM LÀ VẬN TỐC ÁNH SÁNG. CÓ ĐIỀU CẦN LƯU Ý LÀ CHỈ VỚI SỰ TRÌNH BÀY TRỰC TIẾP MỚI DIỄN TẢ NỔI CHIỀU SÂU THẲM CỦA THỰC TẠI VÀ CÓ NHƯ THẾ MỚI THỎA MÃN ĐƯỢC MONG ĐỢI NGƯỜI NGHE KHI CÓ NHỮNG VẤN ĐỀ CẦN ĐƯỢC GÓP Ý, PHÊ BÌNH, PHẢN BIỆN MỘT CÁCH TRỰC TIẾP, THOẢI MÁI VÀ NHẤT LÀ CŨNG SẼ DỄ DÀNG HƠN CHO NGƯỜI TRÌNH BÀY.  ĐẶC BIỆT KHI THEO DÕI VỀ Ý NGHĨA SỰ TƯỚNG THỰC TẠI MÀ CÁC NHÀ VẬT LÝ HỌC ĐEO ĐUỔI KHÔNG CHỈ CÓ CHỦ QUAN VỚI KHÁCH QUAN MÀ THỰC TẠI SỰ TƯỚNG CÒN CÓ NHIỀU “TẦNG”, RẤT KHÓ KHI DIỄN TẢ SỰ KIỆN VƯỢT SỰ CẢM THỤ QUA GIÁC QUAN CHỈ THUẦN QUA NGÔN NGỮ CÒN CẦN CẢ HÌNH ẢNH MÀ CHỈ VỚI Ý TƯỞNG TOÁN HỌC THUẦN TUÝ MỚI DỄ DÀNG LÃNH HỘI.  NGƯỜI VIẾT THẬT SỰ MONG ĐỢI NƠI SỰ GIÚP ĐỠ CỦA CÁC CƠ QUAN NHÀ NƯỚC, CÁC TU VIỆN PHẬT GIÁO HAY BẤT CỨ AI, BẤT KỲ CƠ QUAN HAY HỘI ĐOÀN NÀO ĐỂ CÓ ĐƯỢC MỘT DIỄN ĐÀN HẦU CÓ DỊP TRÌNH BÀY TOÀN BỘ LUẬN ĐỀ MANG TÍNH KHOA HỌC ĐẶC BIỆT NÀY. ĐỒNG THỜI TÔI CŨNG MONG CHỜ SỰ GIÚP ĐỠ VÀ HƯỞNG ỨNG CỦA CÁC NHÀ KHOA HỌC VÀ CÁC BẠN TRẼ. TRONG KHI CHỜ SỰ GIÚP ĐỠ HỒI ÂM, TÔI XIN THÀNH THỰC GỬI LỜI CÁM ƠN TRƯỚC VỀ SỰ THAM GIA HƯỞNG ỨNG CỦA NHỮNG AI NHẤT LÀ CÁC BẠN TRẺ ĐANG NGHIÊN CỨU HAY THEO ĐUỔI KHOA HỌC VŨ TRỤ THIÊN VĂN VÀ NGUYÊN TỬ HỌC. ***  CHUẨN BỊ HÀNH TRANG TIẾN VÀO THIÊN NIÊN KỶ BA TÀI LIỆU MÀ NHỮNG BẠN TRẺ THEO HỌC HAY ĐANG NGHIÊN CỨU VẬT LÝ NGUYÊN TỬ, VŨ TRỤ, THIÊN VĂN KHÔNG THỂ BỎ QUA; VỚI CÁC SINH VIÊN THEO NGÀNH VẬT LÝ LÝ THUYẾT CÓ THỂ XEM ĐÂY NHƯ MỘT TÀI LIỆU QUAN TRỌNG BỔ TÚC CHO VỐN LIẾNG VẬT LÝ HỌC HIỆN ĐẠI CỦA CÁC BẠN. LUẬN ĐỀ CÒN DẪN ĐẾN NHỮNG PHÁT HIỆN LẠ NHƯNG LẠI RẤT THƯỜNG NHƯ CÂU CHUYỆN LÀM SAO ĐẶT ĐỨNG QUẢ TRỨNG GÀ VẬY; CHÚNG TA ĐANG SỐNG TRONG NHỮNG NGÀY ĐÂU THẬP NIÊN THỨ BA CỦA THẾ KỶ 21 THUỘC THIÊN NIÊN KỶ BA … KỶ NGUYÊN CỦA KHOA HỌC LIÊN HÀNH TINH, MONG CÁC BẠN HÃY CỐ GẮNG MỞ RỘNG VÀ PHÁT TRIỂN TẦM NHẬN THỨC KHẢ DĨ HỢP VỚI NHU CẦU ĐÒI HỎI CỦA KHOA HỌC LIÊN HÀNH TINH VÀ VŨ TRỤ.  KHAI TRIỂN KỸ LƯỠNG LUẬN ĐỀ NÀY HY VỌNG CÁC NHÀ KHOA HỌC TRẺ VIỆT NAM TRONG TƯƠNG LAI SẼ CÓ NHIỀU CƠ HỘI ĐOẠT GIẢI NOBEL ; NẾU THÔNG SUỐT TÀI LIỆU NÀY, TÔI CAM KẾT CÁC BẠN TRẺ CHÚNG TA SẼ NHẬN RA CON ĐƯỜNG TƯƠNG LAI KHOA HỌC SẼ PHẢI ĐI MỘT CÁCH RÕ RÀNG VÀ CHÚNG TA SẼ ĐI TRƯỚC THIÊN HẠ; HY VỌNG CÁC BẠN TRẺ KHI TIẾP NHẬN LUẬN ĐỀ CỐ GẮNG KHAI TRIỂN SÂU THÊM ĐỂ NHẬN ĐƯỢC “LÝ NGHĨA” THỰC TẠI MỘT CÁCH RÕ RÀNG VÀ CHÍNH XÁC.  TÔI THẬT SỰ MONG NHÀ NƯỚC VIỆT NAM VÀ CÁC TU VIỆN PHẬT GIÁO GIÚP ĐỂ TÔI CÓ MỘT DIỄN ĐÀN TRÌNH BÀY CHO GIỚI TRẺ VIỆT NAM CỐT TỦY CỦA LUẬN ĐỀ NÀY; CÓ LẼ CHỈ TRÌNH BÀY TRỰC TIẾP MƠI CÓ THỂ GIÁI ĐÁP ĐƯỢC RÕ RÀNG VÀ ĐẦY ĐỦ “LÝ” THỰC TẠI ; MẶT KHÁC, VÌ TUỔI TÁC TRÍ NHỚ TÔI ĐỘ BA NĂM NAY SÚT KÉM HẲN VÀ TÔI CẢM THẤY MỆT MỎI QUÁ RỒI, E RẰNG GIỮA ĐƯỜNG GÃY GÁNH KHÔNG THỂ HOÀN THÀNH TRỌN VẸN LUẬN ĐỀ NHƯ MONG ƯỚC KHI KHỞI SỰ VIẾT MẶC DÙ ĐÃ CỐ GẮNG HẾT SỨC!  THÔI THÌ – ĐẾN ĐÂU HAY ĐÓ – TÔI TẠM GỬI ĐẾN CÁC NHÀ VẬT LÝ, CÁC BẠN TRẺ CHƯƠNG THỨ NHẤT ĐÃ TẠM XONG VÀ BA CHƯƠNG CÒN LẠI CÒN CẦN BỔ TÚC NÊN TÔI CHỈ KÈM DÀN BÀI TÓM TẮT, TRONG KHI CHỜ ĐỢI HOÀN CHỈNH LUẬN ĐỀ. MONG CÁC BẠN HÃY TỰ KHAI TRIỂN VÀ MỞ RỘNG THÊM RA, NẾU CÓ THẮC MẮC HÃY LIÊN HỆ VỚI TÔI QUA ĐIỆN THOẠI CÓ GHI Ở DƯỚI  TÀI LIỆU KÉN ĐỘC GIẢ, VIẾT KHÔNG PHẢI ĐỂ XUẤT BẢN KIẾM TIỀN MÀ CHỈ LÀ MÓN QUÀ TÔI MUỐN GỬI ĐẾN CÁC BẠN TRẺ VIỆT NAM; VÌ SỨC KHỎE KHÔNG CHO PHÉP NÊN KHÔNG BIẾT CÓ THỂ HOÀN THÀNH CHO XỨNG TẦM MỘT QUYỂN SÁCH HAY KHÔNG.  TÔI ĐÃ RẤT CỐ GẮNG SẮP XẾP CHO GỌN NHƯNG KHÓ QUÁ NÊN MỚI CHỌN GIẢI PHÁP THUYẾT TRÌNH TRỰC TIẾP; SAU ĐÓ NẾU CÓ CÁC BẠN TRẺ NÀO HƯỞNG ỨNG TÔI SẼ GIAO CHO TẤT CẢ VỚI LỜI HỨA SẼ PHỔ BIẾN ĐẾN NHỮNG AI ĐANG THEO ĐUỔI, NGHIÊN CỨU KHOA HỌC VẬT LÝ ; XONG NHƯNG LẠI NHƯ CHƯA XONG, CÀNG VIẾT KHI XEM LẠI THẤY VẪN CÒN THIẾU SÓT CHỈ CÓ THỂ TRÌNH BÀY TRỰC TIẾP QUA NGÔN TỪ, NÊN TÔI MONG CÓ SỰ GIÚP ĐỠ CỦA CÁC NHÀ KHOA HỌC VIỆT NAM VÀ CÁC BẠN TRẺ CÙNG GÓP TAY VÀO.  TÔI LẠI NGHĨ TÀI LIỆU CÒN TRONG VÒNG TRANH CÃI VÀ PHẢI TRÌNH BÀY TRỰC TIẾP MỚI NÓI LÊN ĐƯỢC HẾT “LÝ NGHĨA” CỦA SỰ, VIỆC; MẶT KHÁC, THỰC TẠI TỰ NHIÊN BIẾN CHUYỂN VÀ THAY ĐỔI TÙY HOÀN CẢNH, TRÌNH ĐỘ CON NGƯỜI THỜI ĐẠI CŨNG NHƯ SỰ THANH TỊNH HAY CẤU NHIỄM CỦA TÂM THỨC PHÁT HIỆN – CAO, THẤP – CHỈ CÓ THỂ GIẢI TRÌNH TRỰC TIẾP TRONG VỊ TRÍ THỜI GIAN, KHÔNG GIAN THÔNG QUA VẬN TỐC; THỰC TẠI HIỆN TƯỢNG TRÌNH HIỆN QUA NHIỀU “TẦNG”, TÙY “MỨC ĐỘ” CỦA VẬN TỐC TƯƠNG GIAO, HƠI KHÓ GIẢI THÍCH TRÊN GIẤY VÀ CẦN CẢ GIẢI THÍCH THÊM QUA HÌNH VẼ VỀ HÀM SỐ CHUYỂN ĐỘNG. SẼ CÓ DỊP SO SÁNH VŨ TRỤ QUAN TỔNG THỂ VỚI LÝ THUYẾT ĐA VŨ TRỤ HAY VŨ TRỤ SONG SONG CỦA HUGH EVERETT III, TRONG LUẬN ÁN CỦA ÔNG TA NĂM 1957 TẠI ĐẠI HỌC PRINCETON HOẶC VŨ TRỤ TOÀN ẢNH ; SO SÁNH GIỮA THỰC TẠI THEO NHỊ NGUYÊN VÀ THỰC TẠI QUA TRỰC GIÁC TRONG ĐẠO PHẬT CÓ NHIỀU “TẦNG” TRONG KINH ĐỂN PHẬT GIÁO TÙY VÀO TRUNG GIAN TƯƠNG TÁC (DUYÊN); NƠI ĐÂY CÓ SỰ TƯƠNG ĐỒNG TRONG NHẬN THỨC GIỮA TOÁN HỌC VÀ ĐẠO PHẬT (*) … DUY CHỈ MỘT CÁI BIẾT KHÔNG BAO GIỜ THÀNH TỰU CỦA TOÁN HỌC VÀ MỘT BÊN LÀ QUẢ VỊ THỰC CHỨNG THEO THỨ BỰC ĐẠT ĐƯỢC QUA QUẢ VỊ TU HÀNH.  CHÚNG TA SẼ THẤY TINH HOA KHOA HỌC CỦA ĐẠO PHẬT VƯỢT XA TẪM NHẬN THỨC KHOA HỌC TỰ NHIÊN VÀ KHI HIỂU THẤU HOÀN TOÀN THÌ SẼ KHÔNG CÒN CÓ GÌ LÀ SIÊU HÌNH, DỊ ĐOAN, MÊ TÍN NỮA CẢ; KHÔNG LẠ GÌ KHI LIÊN HIỆP QUỐC ĐÃ XEM NGÀY LỄ PHẬT ĐẢN LÀ NGÀY LỄ CỦA TOÀN THẾ GIỚI … .  KHÁT VỌNG VIỆT Thông qua Luận đề này, hy vọng các bạn trẻ Việt Nam hãy tự xóa bỏ mọi mặc cảm tự ty nếu có, để cùng nhận ra trước con đường mà khoa học tương lai bắt buộc phải theo đuổi với mục đích thành tựu một nền vật lý mới có thể đáp ứng cho nhu cầu khoa học tương lai. Biết trước để cố gắng bước đi trước, chứ cầu mong, vinh dự gì mà phải đi tắt để đón đầu? Trong khoa học thiên niên kỷ ba đòi hỏi chúng ta phải nghĩ trước, biết trước thì sẽ tiến bước trước, thực hành trước; chẳng có gì phải tự ty hay mặc cảm dân tộc cả. Dân tộc ta là một dân tộc anh hùng cơ mà.  Thiên niên kỷ ba là thiên niên kỷ của dân tộc Á đông, da vàng. Tôi vẫn còn ghi nhớ và ghi nhớ mãi vào thuở còn đang theo học ở cấp bực tiểu học, năm 1952. Tôi đã có dịp được nghe đến một quyển sách của một người – hình như người Anh – với tựa đề là “HỌA DA VÀNG”. Tuy còn nhỏ, nhưng tôi cũng cảm thấy ấm ức vì lời tựa có vẻ kỳ thị, có vẻ chê bai dân da vàng; với những ai muốn tìm hiểu để đến với khoa học thiên kỷ ba một cách thoải mái thì hãy cố gắng tìm vào những tư tưởng đã có sẵn trong sách vở, kinh điển và kỳ thư của tiền nhân chúng ta để lại.]\n"
     ]
    }
   ],
   "source": [
    "result = speech_synthesizer.speak_text_async(text).get()\n",
    "\n",
    "if result.reason == speechsdk.ResultReason.SynthesizingAudioCompleted:\n",
    "    print(\"Speech synthesized to speaker for text [{}]\".format(text))\n",
    "elif result.reason == speechsdk.ResultReason.Canceled:\n",
    "    cancellation_details = result.cancellation_details\n",
    "    print(\"Speech synthesis canceled: {}\".format(cancellation_details.reason))\n",
    "    if cancellation_details.reason == speechsdk.CancellationReason.Error:\n",
    "        if cancellation_details.error_details:\n",
    "            print(\"Error details: {}\".format(cancellation_details.error_details))\n",
    "    print(\"Did you update the subscription info?\")"
   ]
  },
  {
   "cell_type": "code",
   "execution_count": 1,
   "metadata": {},
   "outputs": [],
   "source": [
    "import json\n",
    "import ntpath\n",
    "import requests"
   ]
  },
  {
   "cell_type": "code",
   "execution_count": 5,
   "metadata": {},
   "outputs": [
    {
     "name": "stdout",
     "output_type": "stream",
     "text": [
      "{\n",
      "  \"values\": []\n",
      "}\n"
     ]
    }
   ],
   "source": [
    "def get_voices():\n",
    "    region = 'eastasia'\n",
    "    key = '5506fd40cd83439a9d4d978245c4e75c'\n",
    "    url = 'https://{}.customvoice.api.speech.microsoft.com/api/texttospeech/v3.0/longaudiosynthesis/voices'.format(region)\n",
    "    header = {\n",
    "        'Ocp-Apim-Subscription-Key': key\n",
    "    }\n",
    "\n",
    "    response = requests.get(url, headers=header)\n",
    "    print(response.text)\n",
    "\n",
    "get_voices()"
   ]
  }
 ],
 "metadata": {
  "interpreter": {
   "hash": "acc2e600df6cc579214e2ceacb80e0cb3558133be1c215a7a18453674aa06459"
  },
  "kernelspec": {
   "display_name": "Python 3.9.9 64-bit",
   "language": "python",
   "name": "python3"
  },
  "language_info": {
   "codemirror_mode": {
    "name": "ipython",
    "version": 3
   },
   "file_extension": ".py",
   "mimetype": "text/x-python",
   "name": "python",
   "nbconvert_exporter": "python",
   "pygments_lexer": "ipython3",
   "version": "3.9.1"
  },
  "orig_nbformat": 4
 },
 "nbformat": 4,
 "nbformat_minor": 2
}
